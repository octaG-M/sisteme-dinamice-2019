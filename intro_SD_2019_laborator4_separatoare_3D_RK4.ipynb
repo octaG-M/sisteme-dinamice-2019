{
 "cells": [
  {
   "cell_type": "markdown",
   "metadata": {},
   "source": [
    "**NOT&#258;**\n",
    "C&#226;nd utiliz&#259;m [Binder](https://mybinder.org/), comanda ``python -m pip install --user numpy plotly`` trebuie rulat&#259; &#238;n terminal &#238;nainte de pornirea **notebook**-ului!"
   ]
  },
  {
   "cell_type": "markdown",
   "metadata": {},
   "source": [
    "# Separatoare &#238;n planul fazelor"
   ]
  },
  {
   "cell_type": "markdown",
   "metadata": {},
   "source": [
    "**Separatoarele** sunt curbe care separ&#259; zonele *cu dinamic&#259; diferit&#259;*. Ele sunt grani&#355;a dintre orbitele &#238;nchise &#351;i cele nem&#259;rginite. "
   ]
  },
  {
   "cell_type": "code",
   "execution_count": null,
   "metadata": {},
   "outputs": [],
   "source": [
    "import numpy as np\n",
    "import plotly.graph_objs as go\n",
    "from plotly.offline import download_plotlyjs, init_notebook_mode, iplot"
   ]
  },
  {
   "cell_type": "code",
   "execution_count": null,
   "metadata": {},
   "outputs": [],
   "source": [
    "from decimal import Context, ROUND_HALF_EVEN, FloatOperation, setcontext, Decimal\n",
    "contextul = Context(prec=128, rounding=ROUND_HALF_EVEN, Emin=-999999, Emax=999999, capitals=1, clamp=1,\n",
    "                    flags=[], traps=[FloatOperation])\n",
    "setcontext(contextul)"
   ]
  },
  {
   "cell_type": "code",
   "execution_count": null,
   "metadata": {},
   "outputs": [],
   "source": [
    "init_notebook_mode(connected=True)"
   ]
  },
  {
   "cell_type": "markdown",
   "metadata": {},
   "source": [
    "Construim aproxim&#259;ri ale constantei $\\pi$ &#351;i ale func&#355;iilor **sin**, **exp**, conform [recomand&#259;rii oficiale](https://docs.python.org/3/library/decimal.html#recipes):"
   ]
  },
  {
   "cell_type": "code",
   "execution_count": null,
   "metadata": {},
   "outputs": [],
   "source": [
    "def pi():\n",
    "    '''\n",
    "    Compute Pi to the current precision.\n",
    "\n",
    "    >>> print(pi())\n",
    "    3.141592653589793238462643383\n",
    "    '''\n",
    "    contextul.prec += 2     # extra digits for intermediate steps\n",
    "    three = Decimal(3)      # substitute \"three=3.0\" for regular floats\n",
    "    lasts, t, s, n, na, d, da = 0, three, 3, 1, 0, 0, 24\n",
    "    while s != lasts:\n",
    "        lasts = s\n",
    "        n, na = n+na, na+8\n",
    "        d, da = d+da, da+32\n",
    "        t = (t * n) / d\n",
    "        s += t\n",
    "    contextul.prec -= 2\n",
    "    return +s               # unary plus applies the new precision\n",
    "\n",
    "def exp(x):\n",
    "    '''\n",
    "    Return e raised to the power of x.  Result type matches input type.\n",
    "\n",
    "    >>> print(exp(Decimal(1)))\n",
    "    2.718281828459045235360287471\n",
    "    >>> print(exp(Decimal(2)))\n",
    "    7.389056098930650227230427461\n",
    "    >>> print(exp(2.0))\n",
    "    7.38905609893\n",
    "    >>> print(exp(2+0j))\n",
    "    (7.38905609893+0j)\n",
    "    '''\n",
    "    contextul.prec += 2\n",
    "    i, lasts, s, fact, num = 0, 0, 1, 1, 1\n",
    "    while s != lasts:\n",
    "        lasts = s\n",
    "        i += 1\n",
    "        fact *= i\n",
    "        num *= x\n",
    "        s += num / fact\n",
    "    contextul.prec -= 2\n",
    "    return +s\n",
    "\n",
    "def sin(x):\n",
    "    '''\n",
    "    Return the sine of x as measured in radians.\n",
    "\n",
    "    The Taylor series approximation works best for a small value of x.\n",
    "    For larger values, first compute x = x % (2 * pi).\n",
    "\n",
    "    >>> print(sin(Decimal('0.5')))\n",
    "    0.4794255386042030002732879352\n",
    "    >>> print(sin(0.5))\n",
    "    0.479425538604\n",
    "    >>> print(sin(0.5+0j))\n",
    "    (0.479425538604+0j)\n",
    "    '''\n",
    "    contextul.prec += 2\n",
    "    i, lasts, s, fact, num, sign = 1, 0, x, 1, x, 1\n",
    "    \n",
    "    x = x % (2 * pi())      # pentru numere mari\n",
    "    \n",
    "    while s != lasts:\n",
    "        lasts = s\n",
    "        i += 2\n",
    "        fact *= i * (i-1)\n",
    "        num *= x * x\n",
    "        sign *= -1\n",
    "        s += num / fact * sign\n",
    "    contextul.prec -= 2\n",
    "    return +s"
   ]
  },
  {
   "cell_type": "markdown",
   "metadata": {},
   "source": [
    "Calcule privind matricea $A\\in\\mathcal{M}_{2}(\\mathbb{R})$\n",
    "----------------------------------------------------------"
   ]
  },
  {
   "cell_type": "code",
   "execution_count": null,
   "metadata": {},
   "outputs": [],
   "source": [
    "a11 = Decimal('1.0')\n",
    "a12 = Decimal('0.0')\n",
    "a21 = Decimal('0.0')\n",
    "a22 = Decimal('-2.0')\n",
    "matricea_A = np.array([[a11, a12], [a21, a22]], dtype=np.object_)\n",
    "matricea_Af = np.array([[float(a11), float(a12)], [float(a21), float(a22)]])"
   ]
  },
  {
   "cell_type": "markdown",
   "metadata": {},
   "source": [
    "Pentru calcule cu **float** ([floating-point numbers](https://en.wikipedia.org/wiki/Floating-point_arithmetic)) de &#238;nalt&#259; precizie, vezi [mpmath](http://mpmath.org/)."
   ]
  },
  {
   "cell_type": "markdown",
   "metadata": {},
   "source": [
    "Elemente spectrale ale matricei $A$\n",
    "-----------------------------------"
   ]
  },
  {
   "cell_type": "markdown",
   "metadata": {},
   "source": [
    "Urma ([trace](https://en.wikipedia.org/wiki/Trace_(linear_algebra))):"
   ]
  },
  {
   "cell_type": "code",
   "execution_count": null,
   "metadata": {},
   "outputs": [],
   "source": [
    "Trace_A = np.trace(matricea_A)\n",
    "Trace_Af = np.trace(matricea_Af)\n",
    "print(\"Trace(A) = {0:.16f}, Trace(Af) = {1:.16f}\".format(Trace_A, Trace_Af))"
   ]
  },
  {
   "cell_type": "markdown",
   "metadata": {},
   "source": [
    "Valorile proprii ([eigenvalues](https://en.wikipedia.org/wiki/Eigenvalues_and_eigenvectors)), vectorii proprii ([eigenvectors](https://en.wikipedia.org/wiki/Eigenvalues_and_eigenvectors#Eigenspaces,_geometric_multiplicity,_and_the_eigenbasis_for_matrices)):"
   ]
  },
  {
   "cell_type": "code",
   "execution_count": null,
   "metadata": {},
   "outputs": [],
   "source": [
    "([lambda1, lambda2], [v1, v2]) = np.linalg.eig(matricea_Af)\n",
    "print(\"Valorile proprii ale matricei Af:\\n\"\n",
    "      \"lambda1 = {0:.16f}\\nlambda2 = {1:.16f}\"\n",
    "      \"\\nVectorii proprii:\\n\"\n",
    "      \"v1 = ({2:.16f}, {3:.16f})\\n\"\n",
    "      \"v2 = ({4:.16f}, {5:.16f})\".format(lambda1, lambda2, v1[0], v1[1], v2[0], v2[1]))"
   ]
  },
  {
   "cell_type": "markdown",
   "metadata": {},
   "source": [
    "Folosind eigenvectorii, construim **datele Cauchy** ale solu&#355;iilor $\\mbox{e}^{\\lambda_{i}t}\\cdot\\overline{v}_{i}$, unde $i\\in\\overline{1,2}$."
   ]
  },
  {
   "cell_type": "markdown",
   "metadata": {},
   "source": [
    "Determinantul, vezi [det](https://github.com/numpy/numpy/blob/master/numpy/linalg/linalg.py#L2103):"
   ]
  },
  {
   "cell_type": "code",
   "execution_count": null,
   "metadata": {},
   "outputs": [],
   "source": [
    "Det_Af = np.linalg.det(matricea_Af)\n",
    "print(\"det Af = {0:.16f}\".format(Det_Af))"
   ]
  },
  {
   "cell_type": "markdown",
   "metadata": {},
   "source": [
    "Formulele ecua&#355;iilor din sistemul diferen&#355;ial:"
   ]
  },
  {
   "cell_type": "code",
   "execution_count": null,
   "metadata": {},
   "outputs": [],
   "source": [
    "def sist_dif(X, Y, Z, t):\n",
    "    X_loc = Decimal(X)\n",
    "    Y_loc = Decimal(Y)\n",
    "    Z_loc = Decimal(Z)\n",
    "    T_loc = Decimal(t)\n",
    "    \n",
    "    # pendulul matematic: (D. Jordan, P. Smith, NODE, IV-th Ed., pag. 12)\n",
    "    '''\n",
    "    ec_X = Y_loc\n",
    "    ec_Y = -sin(X_loc)\n",
    "    ec_Z = Decimal('0')\n",
    "    ec_T = T_loc  \n",
    "    '''\n",
    "    \n",
    "    # resort neliniar: (D. Jordan, P. Smith, NODE, IV-th Ed., pag. 19)\n",
    "    '''\n",
    "    ec_X = Y_loc\n",
    "    ec_Y = -X_loc * exp(-X_loc)  # sau -X_loc * ((-X_loc).exp()), vezi https://docs.python.org/3/library/decimal.html#decimal.Decimal.exp\n",
    "    ec_Z = Decimal('0')\n",
    "    ec_T = T_loc\n",
    "    '''\n",
    "    \n",
    "    # sistem liniar: (D. Jordan, P. Smith, NODE, IV-th Ed., pag. 63 si urm.)\n",
    "    \n",
    "    a11 = Decimal('1.0')\n",
    "    a12 = Decimal('0.0')\n",
    "    a21 = Decimal('0.0')\n",
    "    a22 = Decimal('-2.0')\n",
    "    ec_X = a11 * X_loc + a12 * Y_loc\n",
    "    ec_Y = a21 * X_loc + a22 * Y_loc\n",
    "    ec_Z = Decimal('0')\n",
    "    ec_T = T_loc\n",
    "    \n",
    "    \n",
    "    return ec_X, ec_Y, ec_Z, ec_T"
   ]
  },
  {
   "cell_type": "markdown",
   "metadata": {},
   "source": [
    "Pasul $h$ este:"
   ]
  },
  {
   "cell_type": "code",
   "execution_count": null,
   "metadata": {},
   "outputs": [],
   "source": [
    "h = Decimal('0.01')\n",
    "h2 = Decimal('0.5') * h\n",
    "h3 = h / Decimal('6.0')"
   ]
  },
  {
   "cell_type": "markdown",
   "metadata": {},
   "source": [
    "Num&#259;rul de itera&#355;ii $n$ este:"
   ]
  },
  {
   "cell_type": "code",
   "execution_count": null,
   "metadata": {},
   "outputs": [],
   "source": [
    "n = 10_000\n",
    "\n",
    "# 6_000 pentru pendulul matematic\n",
    "# 1_000 pentru resortul neliniar\n",
    "# 10_000 pentru sistemul liniar"
   ]
  },
  {
   "cell_type": "code",
   "execution_count": null,
   "metadata": {},
   "outputs": [],
   "source": [
    "r2 = range(n)\n",
    "r3 = range(n + 1)\n",
    "\n",
    "X = np.array(r3, dtype=np.object_)\n",
    "Y = np.array(r3, dtype=np.object_)\n",
    "Z = np.array(r3, dtype=np.object_)\n",
    "t = np.array(r3, dtype=np.object_)\n",
    "\n",
    "kX1 = np.array(r2, dtype=np.object_)\n",
    "kY1 = np.array(r2, dtype=np.object_)\n",
    "kZ1 = np.array(r2, dtype=np.object_)\n",
    "zX1 = np.array(r2, dtype=np.object_)\n",
    "zY1 = np.array(r2, dtype=np.object_)\n",
    "zZ1 = np.array(r2, dtype=np.object_)\n",
    "\n",
    "kX2 = np.array(r2, dtype=np.object_)\n",
    "kY2 = np.array(r2, dtype=np.object_)\n",
    "kZ2 = np.array(r2, dtype=np.object_)\n",
    "zX2 = np.array(r2, dtype=np.object_)\n",
    "zY2 = np.array(r2, dtype=np.object_)\n",
    "zZ2 = np.array(r2, dtype=np.object_)\n",
    "\n",
    "kX3 = np.array(r2, dtype=np.object_)\n",
    "kY3 = np.array(r2, dtype=np.object_)\n",
    "kZ3 = np.array(r2, dtype=np.object_)\n",
    "zX3 = np.array(r2, dtype=np.object_)\n",
    "zY3 = np.array(r2, dtype=np.object_)\n",
    "zZ3 = np.array(r2, dtype=np.object_)\n",
    "\n",
    "kX4 = np.array(r2, dtype=np.object_)\n",
    "kY4 = np.array(r2, dtype=np.object_)\n",
    "kZ4 = np.array(r2, dtype=np.object_)\n",
    "\n",
    "kXRK4 = np.array(r2, dtype=np.object_)\n",
    "kYRK4 = np.array(r2, dtype=np.object_)\n",
    "kZRK4 = np.array(r2, dtype=np.object_)"
   ]
  },
  {
   "cell_type": "code",
   "execution_count": null,
   "metadata": {},
   "outputs": [],
   "source": [
    "X[0], Y[0], Z[0], t[0] = (Decimal('0.01'), Decimal('0.0'), Decimal('1.0'), Decimal('0.0'))\n",
    "\n",
    "# pendulul matematic: ochi de pisica (Decimal('0.0'), Decimal('2.0'), Decimal('1.0'), Decimal('0.0'))\n",
    "# pendulul matematic: orbita deschisa (Decimal('0.0'), Decimal('2.16'), Decimal('1.0'), Decimal('0.0'))\n",
    "# pendulul matematic: orbita inchisa (Decimal('0.0'), Decimal('1.9'), Decimal('1.0'), Decimal('0.0'))\n",
    "\n",
    "# resortul neliniar: orbita deschisa (Decimal('8.751035'), Decimal('-1.7280'), Decimal('1.0'), Decimal('0.0'))\n",
    "# resortul neliniar: orbita inchisa (Decimal('0.0'), Decimal('1.0'), Decimal('1.0'), Decimal('0.0'))\n",
    "\n",
    "# sistemul liniar (1,0,0,-2): orbita rectilinie (pentru eigenvaloarea pozitiva) (Decimal('0.0'), Decimal('1.0'), Decimal('1.0'), Decimal('0.0'))\n",
    "# sistemul liniar (1,0,0,-2): orbita rectilinie (pentru eigenvaloarea negativa) (Decimal('0.01'), Decimal('0.0'), Decimal('1.0'), Decimal('0.0'))"
   ]
  },
  {
   "cell_type": "code",
   "execution_count": null,
   "metadata": {},
   "outputs": [],
   "source": [
    "for i in r2:\n",
    "    i2 = i + 1 \n",
    "    ti = t[i]\n",
    "    ti2 = ti + h2\n",
    "    ti3 = ti + h\n",
    "    \n",
    "    t[i2] = ti3                                                           # t[i+1] = t[i] + h\n",
    "    \n",
    "    \n",
    "    kX1[i], kY1[i], kZ1[i], ti = sist_dif(X[i], Y[i], Z[i], ti)           # [pasul 1]\n",
    "    zX1[i] = X[i] + h2 * kX1[i]\n",
    "    zY1[i] = Y[i] + h2 * kY1[i]\n",
    "    zZ1[i] = Z[i] + h2 * kZ1[i]\n",
    "    \n",
    "    kX2[i], kY2[i], kZ2[i], ti2 = sist_dif(zX1[i], zY1[i], zZ1[i], ti2)   # [pasul 2]\n",
    "    zX2[i] = X[i] + h2 * kX2[i]\n",
    "    zY2[i] = Y[i] + h2 * kY2[i]\n",
    "    zZ2[i] = Z[i] + h2 * kZ2[i]\n",
    "    \n",
    "    kX3[i], kY3[i], kZ3[i], ti2 = sist_dif(zX2[i], zY2[i], zZ2[i], ti2)   # [pasul 3]\n",
    "    zX3[i] = X[i] + h * kX3[i]\n",
    "    zY3[i] = Y[i] + h * kY3[i]\n",
    "    zZ3[i] = Z[i] + h * kZ3[i]\n",
    "    \n",
    "    kX4[i], kY4[i], kZ4[i], ti3 = sist_dif(zX3[i], zY3[i], zZ3[i], ti3)   # [pasul 4]\n",
    "    \n",
    "    kXRK4[i] = h3 * (kX1[i] + 2 * kX2[i] + 2 * kX3[i] + kX4[i])           # [pasul 5]\n",
    "    kYRK4[i] = h3 * (kY1[i] + 2 * kY2[i] + 2 * kY3[i] + kY4[i])\n",
    "    kZRK4[i] = h3 * (kZ1[i] + 2 * kZ2[i] + 2 * kZ3[i] + kZ4[i])\n",
    "    \n",
    "    X[i2] = X[i] + kXRK4[i]\n",
    "    Y[i2] = Y[i] + kYRK4[i]\n",
    "    Z[i2] = Z[i] + kZRK4[i]    \n",
    "    \n",
    "    print(\"+++\\nN = {0:d}, \"\n",
    "          \"x({1}) = {2:.16f}, y({3}) = {4:.16f}, z({5}) = {6:.16f}\".format(i, i, X[i], i, Y[i], i, Z[i]))"
   ]
  },
  {
   "cell_type": "markdown",
   "metadata": {},
   "source": [
    "La itera&#355;ia num&#259;rul $J$, unde"
   ]
  },
  {
   "cell_type": "code",
   "execution_count": null,
   "metadata": {},
   "outputs": [],
   "source": [
    "J = 564\n",
    "# 803 pentru pendulul matematic\n",
    "# 564 pentru resortul neliniar"
   ]
  },
  {
   "cell_type": "markdown",
   "metadata": {},
   "source": [
    "au fost ob&#355;inute valorile:"
   ]
  },
  {
   "cell_type": "code",
   "execution_count": null,
   "metadata": {},
   "outputs": [],
   "source": [
    "print(\"x({0:d}) = {1:.16f}, y({2:d}) = {3:.16f}, z({4:d}) = {5:.16f}\".format(J, X[J], J, Y[J], J, Z[J]))"
   ]
  },
  {
   "cell_type": "markdown",
   "metadata": {},
   "source": [
    "Preg&#259;tirea vizualiz&#259;rii:"
   ]
  },
  {
   "cell_type": "code",
   "execution_count": null,
   "metadata": {},
   "outputs": [],
   "source": [
    "traiectoria = go.Scatter3d(\n",
    "# imaginea va putea fi salvata doar ca \"png\", vezi nota din \"https://plot.ly/python/static-image-export/#vector-formats-svg-and-pdf\"\n",
    "              x=X, y=Y, z=Z, mode='markers', \n",
    "              marker=dict(color='rgb(127,0,255)', size=4, symbol='circle',\n",
    "                          line=dict(color='rgb(255,245,0)', width=1),\n",
    "                          opacity=0.8))\n",
    "datele = [traiectoria]\n",
    "aspectul = go.Layout(margin=dict(l=0, r=0, b=0, t=0))"
   ]
  },
  {
   "cell_type": "markdown",
   "metadata": {},
   "source": [
    "Vizualizarea interativ&#259; a datelor:"
   ]
  },
  {
   "cell_type": "code",
   "execution_count": null,
   "metadata": {},
   "outputs": [],
   "source": [
    "fig = go.Figure(data=datele, layout=aspectul)\n",
    "iplot(fig)"
   ]
  }
 ],
 "metadata": {
  "kernelspec": {
   "display_name": "Python 3",
   "language": "python",
   "name": "python3"
  },
  "language_info": {
   "codemirror_mode": {
    "name": "ipython",
    "version": 3
   },
   "file_extension": ".py",
   "mimetype": "text/x-python",
   "name": "python",
   "nbconvert_exporter": "python",
   "pygments_lexer": "ipython3",
   "version": "3.7.2"
  }
 },
 "nbformat": 4,
 "nbformat_minor": 2
}
