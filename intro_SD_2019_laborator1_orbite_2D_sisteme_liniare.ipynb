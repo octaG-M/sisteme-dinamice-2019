{
 "cells": [
  {
   "cell_type": "markdown",
   "metadata": {},
   "source": [
    "**NOT&#258;**\n",
    "C&#226;nd utiliz&#259;m [Binder](https://mybinder.org/), comanda ``python -m pip install --user numpy matplotlib`` trebuie rulat&#259; &#238;n terminal &#238;nainte de pornirea **notebook**-ului!"
   ]
  },
  {
   "cell_type": "markdown",
   "metadata": {},
   "source": [
    "# Reprezentarea traiectoriilor &#238;n planul fazelor"
   ]
  },
  {
   "cell_type": "markdown",
   "metadata": {},
   "source": [
    "Avem nevoie de urm&#259;toarele [module Python 3](https://docs.python.org/3/reference/import.html):"
   ]
  },
  {
   "cell_type": "code",
   "execution_count": 1,
   "metadata": {},
   "outputs": [],
   "source": [
    "import numpy as np\n",
    "import matplotlib.pyplot as plt"
   ]
  },
  {
   "cell_type": "markdown",
   "metadata": {},
   "source": [
    "Se consider&#259; sistemul diferen&#355;ial liniar &#351;i omogen"
   ]
  },
  {
   "cell_type": "markdown",
   "metadata": {},
   "source": [
    "$$\n",
    "\\left\\{\n",
    "\\begin{array}{l}\n",
    "x^{\\prime}=a_{11}\\cdot x+a_{12}\\cdot y,\\\\\n",
    "y^{\\prime}=a_{21}\\cdot x+a_{22}\\cdot y,\n",
    "\\end{array}\n",
    "\\right.\n",
    "\\quad\\mbox{unde }a_{ij}\\in\\mathbb{R},\\,i,j\\in\\{1,2\\},\n",
    "$$"
   ]
  },
  {
   "cell_type": "markdown",
   "metadata": {},
   "source": [
    "cu necunoscutele $x=x(t),\\,y=y(t)\\in C^{1}(\\mathbb{R},\\mathbb{R})$."
   ]
  },
  {
   "cell_type": "markdown",
   "metadata": {},
   "source": [
    "Introducem **coeficien&#355;ii** ecua&#355;iilor din sistem sub forma &#351;irului\n",
    "$$a_{11},\\,a_{12},\\,a_{21},\\,a_{22}$$"
   ]
  },
  {
   "cell_type": "code",
   "execution_count": null,
   "metadata": {},
   "outputs": [],
   "source": [
    "r = range(2)\n",
    "ma = np.array([0, 1, -4, 0], dtype=float).reshape(2, 2)\n",
    "\n",
    "print(\"Verific\\u0103ri:\")\n",
    "for i in r:\n",
    "    ii = i + 1\n",
    "    for j in r:\n",
    "        print(\"a[{0},{1}] = {2:.6f}\".format(ii, j + 1, ma[i, j]))"
   ]
  },
  {
   "cell_type": "markdown",
   "metadata": {},
   "source": [
    "Sistemului &#238;i asociem **data Cauchy**"
   ]
  },
  {
   "cell_type": "markdown",
   "metadata": {},
   "source": [
    "$$\n",
    "\\left\\{\n",
    "\\begin{array}{l}\n",
    "x(0)=x_{0},\\\\\n",
    "y(0)=y_{0},\n",
    "\\end{array}\n",
    "\\right.\n",
    "\\quad\\mbox{unde }x_{0},y_{0}\\in\\mathbb{R}.\n",
    "$$"
   ]
  },
  {
   "cell_type": "code",
   "execution_count": null,
   "metadata": {},
   "outputs": [],
   "source": [
    "dc = np.array([0, 1], dtype=float)\n",
    "\n",
    "print(\"Verific\\u0103ri:\")\n",
    "for i in r:\n",
    "        print(\"dc[{0}] = {1:.6f}\".format(i, dc[i]))"
   ]
  },
  {
   "cell_type": "markdown",
   "metadata": {},
   "source": [
    "Folosim metoda [RK4](https://en.wikipedia.org/wiki/Runge%E2%80%93Kutta_methods#The_Runge%E2%80%93Kutta_method) de **discretizare** a sistemului diferen&#355;ial. Pentru aceasta, trebuie precizate:\n",
    "* un **pas** $h$;\n",
    "* un **num&#259;r de itera&#355;ii** $n$."
   ]
  },
  {
   "cell_type": "markdown",
   "metadata": {},
   "source": [
    "Pasul $h$ este:"
   ]
  },
  {
   "cell_type": "code",
   "execution_count": null,
   "metadata": {},
   "outputs": [],
   "source": [
    "h = 0.1\n",
    "\n",
    "print(\"Verific\\u0103ri:\"\n",
    "      \"h = {0:.6f}\".format(h))"
   ]
  },
  {
   "cell_type": "markdown",
   "metadata": {},
   "source": [
    "Num&#259;rul $n$ de itera&#355;ii este:"
   ]
  },
  {
   "cell_type": "code",
   "execution_count": null,
   "metadata": {},
   "outputs": [],
   "source": [
    "n = 1_000 \n",
    "\n",
    "print(\"Verific\\u0103ri:\"\n",
    "      \"n = {0:d}\".format(n))"
   ]
  },
  {
   "cell_type": "markdown",
   "metadata": {},
   "source": [
    "**Formulele ecua&#355;iilor** din sistemul diferen&#355;ial sunt:"
   ]
  },
  {
   "cell_type": "markdown",
   "metadata": {},
   "source": [
    "$$\n",
    "\\left\\{\n",
    "\\begin{array}{l}\n",
    "f(x,y,t)=a_{11}\\cdot x+a_{12}\\cdot y,\\\\\n",
    "g(x,y,t)=a_{21}\\cdot x+a_{22}\\cdot y.\n",
    "\\end{array}\n",
    "\\right.\n",
    "$$"
   ]
  },
  {
   "cell_type": "code",
   "execution_count": null,
   "metadata": {},
   "outputs": [],
   "source": [
    "f = lambda v1, v2, v3: ma[0, 0] * v1 + ma[0, 1] * v2\n",
    "g = lambda v1, v2, v3: ma[1, 0] * v1 + ma[1, 1] * v2"
   ]
  },
  {
   "cell_type": "markdown",
   "metadata": {},
   "source": [
    "**Rela&#355;iile de recuren&#355;&#259;** ale metodei **RK4** (conform R.C. Robinson, *An Introduction to Dynamical Systems: Continuous and Discrete*, Pearson Education, Inc., 2004, **pag. 81**) definesc:\n",
    "* elemente principale ($x_{n},\\,y_{n},\\,t_{n}$):\n",
    "  $$\n",
    "  \\left\\{\n",
    "  \\begin{array}{l}\n",
    "  x_{n+1} = x_{n} + kx_{RK4,n},\\\\\n",
    "  y_{n+1} = y_{n} + ky_{RK4,n},\\\\\n",
    "  t_{n+1} = t_{n} + h;\n",
    "  \\end{array}\n",
    "  \\right.\n",
    "  $$\n",
    "* elemente intermediare ($kx_{1,n},\\,ky_{1,n},\\,zx_{1,n},\\,zy_{1,n},kx_{2,n},\\,ky_{2,n},\\,zx_{2,n},\\,zy_{2,n},\\,kx_{3,n},\\,ky_{3,n},\\,zx_{3,n},\\,zy_{3,n},\\,kx_{4,n},\\,ky_{4,n},\\,kx_{RK4,n},\\,ky_{RK4,n}$):\n",
    "  $$\n",
    "  \\left\\{\n",
    "  \\begin{array}{ll}\n",
    "  kx_{1,n} = f(x_{n},y_{n},t_{n}),&[\\mbox{pasul }\\mathbf{1}]\\\\\n",
    "  ky_{1,n} = g(x_{n},y_{n},t_{n}),&\\\\\n",
    "  zx_{1,n} = x_{n} + \\frac{h}{2}\\cdot kx_{1,n},&\\\\\n",
    "  zy_{1,n} = y_{n} + \\frac{h}{2}\\cdot ky_{1,n},&\\\\\n",
    "  &\\\\\n",
    "  kx_{2,n} = f\\left(zx_{1,n},zy_{1,n},t_{n} + \\frac{h}{2}\\right),&[\\mbox{pasul }\\mathbf{2}]\\\\\n",
    "  ky_{2,n} = g\\left(zx_{1,n},zy_{1,n},t_{n} + \\frac{h}{2}\\right),&\\\\\n",
    "  zx_{2,n} = x_{n} + \\frac{h}{2}\\cdot kx_{2,n},&\\\\\n",
    "  zy_{2,n} = y_{n} + \\frac{h}{2}\\cdot ky_{2,n},&\\\\\n",
    "  &\\\\  \n",
    "  kx_{3,n} = f\\left(zx_{2,n},zy_{2,n},t_{n} + \\frac{h}{2}\\right),&[\\mbox{pasul }\\mathbf{3}]\\\\\n",
    "  ky_{3,n} = g\\left(zx_{2,n},zy_{2,n},t_{n} + \\frac{h}{2}\\right),&\\\\\n",
    "  zx_{3,n} = x_{n} + h\\cdot kx_{3,n},&\\\\\n",
    "  zy_{3,n} = y_{n} + h\\cdot ky_{3,n},&\\\\\n",
    "  &\\\\\n",
    "  kx_{4,n} = f(zx_{3,n},zy_{3,n},t_{n} + h),&[\\mbox{pasul }\\mathbf{4}]\\\\\n",
    "  ky_{4,n} = g(zx_{3,n},zy_{3,n},t_{n} + h),&\\\\\n",
    "  &\\\\\n",
    "  kx_{RK4,n} = \\frac{h}{6}\\cdot(kx_{1,n} + 2\\cdot kx_{2,n} + 2\\cdot kx_{3,n} + kx_{4,n}),&[\\mbox{pasul }\\mathbf{5}]\\\\\n",
    "  ky_{RK4,n} = \\frac{h}{6}\\cdot(ky_{1,n} + 2\\cdot ky_{2,n} + 2\\cdot ky_{3,n} + ky_{4,n}).&\n",
    "  \\end{array}\n",
    "  \\right.\n",
    "  $$"
   ]
  },
  {
   "cell_type": "code",
   "execution_count": null,
   "metadata": {},
   "outputs": [],
   "source": [
    "r2 = range(n)\n",
    "r3 = range(n + 1)\n",
    "\n",
    "x = np.array(r3, dtype=float)\n",
    "y = np.array(r3, dtype=float)\n",
    "t = np.array(r3, dtype=float)\n",
    "\n",
    "print(\"Verific\\u0103ri:\\n\"\n",
    "      \"Obiectul x = {0:s},\"\n",
    "      \"\\nObiectul y = {1:s},\"\n",
    "      \"\\nObiectul t = {2:s}.\".format(str(id(x)), str(id(y)), str(id(t))))\n",
    "\n",
    "kx1 = np.array(r2, dtype=float)\n",
    "ky1 = np.array(r2, dtype=float)\n",
    "zx1 = np.array(r2, dtype=float)\n",
    "zy1 = np.array(r2, dtype=float)\n",
    "\n",
    "print(\"Obiectul kx1 = {0:s},\"\n",
    "      \"\\nObiectul ky1 = {1:s},\"\n",
    "      \"\\nObiectul zx1 = {2:s},\"\n",
    "      \"\\nObiectul zy1 = {3:s}.\".format(str(id(kx1)), str(id(ky1)), str(id(zx1)), str(id(zy1))))\n",
    "\n",
    "kx2 = np.array(r2, dtype=float)\n",
    "ky2 = np.array(r2, dtype=float)\n",
    "zx2 = np.array(r2, dtype=float)\n",
    "zy2 = np.array(r2, dtype=float)\n",
    "\n",
    "print(\"Obiectul kx2 = {0:s},\"\n",
    "      \"\\nObiectul ky2 = {1:s},\"\n",
    "      \"\\nObiectul zx2 = {2:s},\"\n",
    "      \"\\nObiectul zy2 = {3:s}.\".format(str(id(kx2)), str(id(ky2)), str(id(zx2)), str(id(zy2))))\n",
    "\n",
    "kx3 = np.array(r2, dtype=float)\n",
    "ky3 = np.array(r2, dtype=float)\n",
    "zx3 = np.array(r2, dtype=float)\n",
    "zy3 = np.array(r2, dtype=float)\n",
    "\n",
    "print(\"Obiectul kx3 = {0:s},\"\n",
    "      \"\\nObiectul ky3 = {1:s},\"\n",
    "      \"\\nObiectul zx3 = {2:s},\"\n",
    "      \"\\nObiectul zy3 = {3:s}.\".format(str(id(kx3)), str(id(ky3)), str(id(zx3)), str(id(zy3))))\n",
    "\n",
    "kx4 = np.array(r2, dtype=float)\n",
    "ky4 = np.array(r2, dtype=float)\n",
    "\n",
    "print(\"Obiectul kx4 = {0:s},\"\n",
    "      \"\\nObiectul ky4 = {1:s}.\".format(str(id(kx4)), str(id(ky4))))\n",
    "\n",
    "kxRK4 = np.array(r2, dtype=float)\n",
    "kyRK4 = np.array(r2, dtype=float)\n",
    "\n",
    "print(\"Obiectul kxRK4 = {0:s},\"\n",
    "      \"\\nObiectul kyRK4 = {1:s}.\".format(str(id(kxRK4)), str(id(kyRK4))))\n",
    "\n",
    "x[0] = dc[0]\n",
    "y[0] = dc[1]\n",
    "t[0] = 0.0\n",
    "\n",
    "h2 = 0.5 * h\n",
    "h3 = h / 6.0\n",
    "\n",
    "print(\"h = {0:.6f}, h/2 = {1:.6f}, h/6 = {2:.6f}\".format(h, h2, h3))"
   ]
  },
  {
   "cell_type": "code",
   "execution_count": null,
   "metadata": {},
   "outputs": [],
   "source": [
    "print(\"Afi\\u015Farea calculului:\\n\"\n",
    "      \"x(0) = {0:.6f}, y(0) = {1:.6f}, \"\n",
    "      \"t(0) = {2:.6f}\".format(x[0], y[0], t[0]))\n",
    "\n",
    "for i in r2:\n",
    "    i2 = i + 1 \n",
    "    ti = t[i]\n",
    "    ti2 = ti + h2\n",
    "    ti3 = ti + h\n",
    "    \n",
    "    t[i2] = ti3                                                     # t[i+1] = t[i] + h\n",
    "    \n",
    "    \n",
    "    kx1[i] = f(x[i], y[i], ti)                                      # [pasul 1]\n",
    "    ky1[i] = g(x[i], y[i], ti)\n",
    "    zx1[i] = x[i] + h2 * kx1[i]\n",
    "    zy1[i] = y[i] + h2 * ky1[i]\n",
    "    \n",
    "    kx2[i] = f(zx1[i], zy1[i], ti2)                                 # [pasul 2]\n",
    "    ky2[i] = g(zx1[i], zy1[i], ti2)\n",
    "    zx2[i] = x[i] + h2 * kx2[i]\n",
    "    zy2[i] = y[i] + h2 * ky2[i]\n",
    "    \n",
    "    kx3[i] = f(zx2[i], zy2[i], ti2)                                 # [pasul 3]\n",
    "    ky3[i] = g(zx2[i], zy2[i], ti2)\n",
    "    zx3[i] = x[i] + h * kx3[i]\n",
    "    zy3[i] = y[i] + h * ky3[i]\n",
    "    \n",
    "    kx4[i] = f(zx3[i], zy3[i], ti3)                                 # [pasul 4]\n",
    "    ky4[i] = g(zx3[i], zy3[i], ti3)\n",
    "    \n",
    "    kxRK4[i] = h3 * (kx1[i] + 2 * kx2[i] + 2 * kx3[i] + kx4[i])     # [pasul 5]\n",
    "    kyRK4[i] = h3 * (ky1[i] + 2 * ky2[i] + 2 * ky3[i] + ky4[i])\n",
    "    \n",
    "    x[i2] = x[i] + kxRK4[i]\n",
    "    y[i2] = y[i] + kyRK4[i]\n",
    "    \n",
    "    print(\"+++\\nItera\\u0163ia {0:d}:\\n\"\n",
    "          \"Elemente principale:\".format(i2))\n",
    "    print(\"x({0}) = {1:.6f}, \"\n",
    "          \"y({2}) = {3:.6f}, \"\n",
    "          \"t({4}) = {5:.6f}\".format(i2, x[i2], i2, y[i2], i2, t[i2]))\n",
    "    print(\"Elemente intermediare:\\n\"\n",
    "          \"[Pasul 1]\\n\"\n",
    "          \"kx1({0}) = {1:.6f}, \"\n",
    "          \"ky1({2}) = {3:.6f}, \"\n",
    "          \"zx1({4}) = {5:.6f}, \"\n",
    "          \"zy1({6}) = {7:.6f}\".format(i, kx1[i], i, ky1[i], i, zx1[i], i, zy1[i]))\n",
    "    print(\"[Pasul 2]\\n\"\n",
    "          \"kx2({0}) = {1:.6f}, \"\n",
    "          \"ky2({2}) = {3:.6f}, \"\n",
    "          \"zx2({4}) = {5:.6f}, \"\n",
    "          \"zy2({6}) = {7:.6f}\".format(i, kx2[i], i, ky2[i], i, zx2[i], i, zy2[i]))\n",
    "    print(\"[Pasul 3]\\n\"\n",
    "          \"kx3({0}) = {1:.6f}, \"\n",
    "          \"ky3({2}) = {3:.6f}, \"\n",
    "          \"zx3({4}) = {5:.6f}, \"\n",
    "          \"zy3({6}) = {7:.6f}\".format(i, kx3[i], i, ky3[i], i, zx3[i], i, zy3[i]))\n",
    "    print(\"[Pasul 4]\\n\"\n",
    "          \"kx4({0}) = {1:.6f}, \"\n",
    "          \"ky4({2}) = {3:.6f}\".format(i, kx4[i], i, ky4[i]))\n",
    "    print(\"[Pasul 5]\\n\"\n",
    "          \"kxRK4({0}) = {1:.6f}, \"\n",
    "          \"kyRK4({2}) = {3:.6f}\".format(i, kxRK4[i] , i, kyRK4[i]))"
   ]
  },
  {
   "cell_type": "code",
   "execution_count": null,
   "metadata": {},
   "outputs": [],
   "source": [
    "ca = np.linspace(-1.5, 1.5, \n",
    "                 num=9, endpoint=True, \n",
    "                 retstep=False, dtype=float)      # Calculul axelor.\n",
    "\n",
    "plt.figure()\n",
    "plt.axis([-3, 3, -3, 3])\n",
    "plt.xlabel('x')\n",
    "plt.ylabel('y')\n",
    "plt.title('Planul fazelor')\n",
    "plt.plot(ca, np.zeros(ca.shape), 'b--')           # Axa orizontala.\n",
    "plt.plot(np.zeros(ca.shape), ca, 'b--')           # Axa verticala.\n",
    "plt.plot(0, 0, 'ro')                              # Intersectia axelor.\n",
    "plt.text(.1, -.4, r'$O$')\n",
    "\n",
    "plt.plot(x, y, 'g.')\n",
    "plt.text(-2.5,2,\n",
    "         \"$a_{11}$\" + \" = {0:.6f}, \".format(ma[0, 0])\n",
    "         + \"$a_{12}$\" + \" = {0:.6f},\\n\".format(ma[0, 1])\n",
    "         + \"$a_{21}$\" + \" = {0:.6f}, \".format(ma[1, 0])\n",
    "         + \"$a_{22}$\" + \" = {0:.6f}\".format(ma[1, 1])        )\n",
    "plt.text(-2.5, -2.5, \n",
    "         \"$x(0)={0:.6f},\\,y(0)={1:.6f}$\"\n",
    "         \"\\nNum\\u0103rul de itera\\u0163ii: \"\n",
    "         \"$n={2:d}$. Pasul: $h={3:.6f}$.\".format(x[0], y[0], n, h))\n",
    "\n",
    "plt.show()"
   ]
  }
 ],
 "metadata": {
  "kernelspec": {
   "display_name": "Python 3",
   "language": "python",
   "name": "python3"
  },
  "language_info": {
   "codemirror_mode": {
    "name": "ipython",
    "version": 3
   },
   "file_extension": ".py",
   "mimetype": "text/x-python",
   "name": "python",
   "nbconvert_exporter": "python",
   "pygments_lexer": "ipython3",
   "version": "3.7.2"
  }
 },
 "nbformat": 4,
 "nbformat_minor": 2
}
