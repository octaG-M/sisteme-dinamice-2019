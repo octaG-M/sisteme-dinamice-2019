{
 "cells": [
  {
   "cell_type": "markdown",
   "metadata": {},
   "source": [
    "**NOT&#258;**\n",
    "C&#226;nd utiliz&#259;m [Binder](https://mybinder.org/), comanda ``python -m pip install --user plotly`` trebuie rulat&#259; &#238;n terminal &#238;nainte de pornirea **notebook**-ului!"
   ]
  },
  {
   "cell_type": "markdown",
   "metadata": {},
   "source": [
    "# Atractorul Lorenz"
   ]
  },
  {
   "cell_type": "markdown",
   "metadata": {},
   "source": [
    "&#206;n 1963, matematicianul &#351;i meteorologul [Edward R. Lorenz](https://en.wikipedia.org/wiki/Edward_Norton_Lorenz) introduce urm&#259;torul sistem de ecua&#355;ii diferen&#355;iale:"
   ]
  },
  {
   "cell_type": "markdown",
   "metadata": {},
   "source": [
    "$$\n",
    "\\left\\{\n",
    "\\begin{array}{l}\n",
    "x^{\\prime}=F(x,y,z)=\\sigma\\cdot(y-x),\\\\\n",
    "y^{\\prime}=G(x,y,z)=x\\cdot(r-z)-y,\\\\\n",
    "z^{\\prime}=H(x,y,z)=x\\cdot y-b\\cdot z\n",
    "\\end{array}\n",
    "\\right.\n",
    "\\quad\\mbox{unde }\\sigma,\\,r,\\,b>0.\n",
    "$$"
   ]
  },
  {
   "cell_type": "markdown",
   "metadata": {},
   "source": [
    "Vezi lucrarea [Deterministic nonperiodic flow](https://journals.ametsoc.org/doi/abs/10.1175/1520-0469%281963%29020%3C0130%3ADNF%3E2.0.CO%3B2) din volumul [20, No. 2](https://journals.ametsoc.org/toc/atsc/20/2) al revistei [Journal of the Atmospheric Sciences](https://journals.ametsoc.org/toc/atsc/current). Ne vom referi la ea cu apelativul **Dnf**."
   ]
  },
  {
   "cell_type": "markdown",
   "metadata": {},
   "source": [
    "Avem nevoie de urm&#259;toarele [module Python 3](https://docs.python.org/3/reference/import.html):"
   ]
  },
  {
   "cell_type": "code",
   "execution_count": null,
   "metadata": {},
   "outputs": [],
   "source": [
    "import numpy as np\n",
    "import plotly.graph_objs as go\n",
    "from plotly.offline import download_plotlyjs, init_notebook_mode, iplot"
   ]
  },
  {
   "cell_type": "code",
   "execution_count": null,
   "metadata": {},
   "outputs": [],
   "source": [
    "from decimal import Context, ROUND_HALF_EVEN, FloatOperation, setcontext, Decimal\n",
    "contextul = Context(prec=128, rounding=ROUND_HALF_EVEN, Emin=-999999, Emax=999999, capitals=1, clamp=1,\n",
    "                    flags=[], traps=[FloatOperation])\n",
    "setcontext(contextul)"
   ]
  },
  {
   "cell_type": "markdown",
   "metadata": {},
   "source": [
    "Preg&#259;tim utilizarea bibliotecii grafice [Plotly](https://plot.ly/graphing-libraries/) &#238;n cadrul acestui [notebook](https://plot.ly/python/getting-started/#initialization-for-offline-plotting):"
   ]
  },
  {
   "cell_type": "code",
   "execution_count": null,
   "metadata": {},
   "outputs": [],
   "source": [
    "init_notebook_mode(connected=True)"
   ]
  },
  {
   "cell_type": "markdown",
   "metadata": {},
   "source": [
    "Conform **Dnf**, pagina 136, ne intereseaz&#259; urm&#259;toarele valori ale parametrilor: $\\sigma=10,\\,b=8/3$ (B. Saltzman) &#351;i $r=28$."
   ]
  },
  {
   "cell_type": "code",
   "execution_count": null,
   "metadata": {},
   "outputs": [],
   "source": [
    "def sist_lorenz(x, y, z, sigma=Decimal('10'), r=Decimal('28'), b=Decimal('8')/Decimal('3')):\n",
    "    x_loc = Decimal(x)\n",
    "    y_loc = Decimal(y)\n",
    "    z_loc = Decimal(z)\n",
    "    ec_x = sigma * (y_loc - x_loc)\n",
    "    ec_y = x_loc * (r - z_loc) - y_loc\n",
    "    ec_z = x_loc * y_loc - b * z_loc\n",
    "    return ec_x,ec_y,ec_z"
   ]
  },
  {
   "cell_type": "markdown",
   "metadata": {},
   "source": [
    "Folosim schema de aproximare numeric&#259; din **Dnf**, pagina 133. Astfel, **timpul** se estimeaz&#259; prin formula\n",
    "$$\n",
    "t_{k}=t_{0}+k\\cdot\\Delta t,\\quad k\\in\\overline{0,n},\\quad n\\in\\mathbb{N}.\n",
    "$$\n",
    "\n",
    "Presupun&#226;nd calculate m&#259;rimile\n",
    "$$\n",
    "x_{k}\\sim x(t_{k}),\\quad y_{k}\\sim y(t_{k}),\\quad z_{k}\\sim z(t_{k}),\n",
    "$$\n",
    "determin&#259;m valorile auxiliare\n",
    "$$\n",
    "\\left\\{\n",
    "\\begin{array}{l}\n",
    "x_{k}^{\\scriptsize\\mbox{aux}}=x_{k}+F(x_{k},y_{k},z_{k})\\cdot\\Delta t,\\\\\n",
    "y_{k}^{\\scriptsize\\mbox{aux}}=y_{k}+G(x_{k},y_{k},z_{k})\\cdot\\Delta t,\\\\\n",
    "z_{k}^{\\scriptsize\\mbox{aux}}=z_{k}+H(x_{k},y_{k},z_{k})\\cdot\\Delta t,\\\\\n",
    "\\end{array}\n",
    "\\right.\n",
    "$$\n",
    "respectiv\n",
    "$$\n",
    "\\left\\{\n",
    "\\begin{array}{l}\n",
    "x_{k+1}^{\\scriptsize\\mbox{aux}}=x_{k}^{\\scriptsize\\mbox{aux}}+F(x_{k}^{\\scriptsize\\mbox{aux}},y_{k}^{\\scriptsize\\mbox{aux}},z_{k}^{\\scriptsize\\mbox{aux}})\\cdot\\Delta t,\\\\\n",
    "y_{k+1}^{\\scriptsize\\mbox{aux}}=y_{k}^{\\scriptsize\\mbox{aux}}+G(x_{k}^{\\scriptsize\\mbox{aux}},y_{k}^{\\scriptsize\\mbox{aux}},z_{k}^{\\scriptsize\\mbox{aux}})\\cdot\\Delta t,\\\\\n",
    "z_{k+1}^{\\scriptsize\\mbox{aux}}=z_{k}^{\\scriptsize\\mbox{aux}}+H(x_{k}^{\\scriptsize\\mbox{aux}},y_{k}^{\\scriptsize\\mbox{aux}},z_{k}^{\\scriptsize\\mbox{aux}})\\cdot\\Delta t.\\\\\n",
    "\\end{array}\n",
    "\\right.\n",
    "$$\n",
    "\n",
    "&#206;n sf&#226;r&#351;it,\n",
    "$$\n",
    "\\left\\{\n",
    "\\begin{array}{l}\n",
    "x_{k+1}=\\frac{1}{2}\\cdot\\left(x_{k}+x_{k+1}^{\\scriptsize\\mbox{aux}}\\right),\\\\\n",
    "y_{k+1}=\\frac{1}{2}\\cdot\\left(y_{k}+y_{k+1}^{\\scriptsize\\mbox{aux}}\\right),\\\\\n",
    "z_{k+1}=\\frac{1}{2}\\cdot\\left(z_{k}+z_{k+1}^{\\scriptsize\\mbox{aux}}\\right).\n",
    "\\end{array}\n",
    "\\right.\n",
    "$$"
   ]
  },
  {
   "cell_type": "markdown",
   "metadata": {},
   "source": [
    "Conform discu&#355;iei din [Phil Austin, Lab. 6](https://clouds.eos.ubc.ca/~phil/numeric/html_files/lab6.html#5.-Numerical-Integration), metoda descris&#259; anterior este [metoda Heun](https://en.wikipedia.org/wiki/Heun%27s_method)."
   ]
  },
  {
   "cell_type": "markdown",
   "metadata": {},
   "source": [
    "Pasul $h=\\Delta t$ este:"
   ]
  },
  {
   "cell_type": "code",
   "execution_count": null,
   "metadata": {},
   "outputs": [],
   "source": [
    "h = Decimal('0.01')"
   ]
  },
  {
   "cell_type": "markdown",
   "metadata": {},
   "source": [
    "Num&#259;rul $n$ de itera&#355;ii este:"
   ]
  },
  {
   "cell_type": "code",
   "execution_count": null,
   "metadata": {},
   "outputs": [],
   "source": [
    "n = 6_000"
   ]
  },
  {
   "cell_type": "markdown",
   "metadata": {},
   "source": [
    "&#350;irurile de valori (&#238;ncepem cu datele ini&#355;iale):"
   ]
  },
  {
   "cell_type": "code",
   "execution_count": null,
   "metadata": {},
   "outputs": [],
   "source": [
    "r = range(n + 1)\n",
    "x = np.array(r, dtype=np.object_)\n",
    "y = np.array(r, dtype=np.object_)\n",
    "z = np.array(r, dtype=np.object_)\n",
    "x_aux = np.array(r, dtype=np.object_)\n",
    "y_aux = np.array(r, dtype=np.object_)\n",
    "z_aux = np.array(r, dtype=np.object_)"
   ]
  },
  {
   "cell_type": "markdown",
   "metadata": {},
   "source": [
    "Valorile ini&#355;iale sunt:"
   ]
  },
  {
   "cell_type": "code",
   "execution_count": null,
   "metadata": {},
   "outputs": [],
   "source": [
    "x[0], y[0], z[0] = (Decimal('0'), Decimal('1'), Decimal('0'))"
   ]
  },
  {
   "cell_type": "markdown",
   "metadata": {},
   "source": [
    "Calculul itera&#355;iilor (momentul ini&#355;ial este $t_{0}=0$ iar num&#259;rul de ordine al itera&#355;iei este $N$, vezi **Dnf**, paginile 133, 137):"
   ]
  },
  {
   "cell_type": "code",
   "execution_count": null,
   "metadata": {},
   "outputs": [],
   "source": [
    "coef = Decimal('1') / Decimal('2')\n",
    "for i in range(n):\n",
    "    iter_x,iter_y,iter_z = sist_lorenz(x[i], y[i], z[i])\n",
    "    x_aux[i] = x[i] + iter_x * h\n",
    "    y_aux[i] = y[i] + iter_y * h\n",
    "    z_aux[i] = z[i] + iter_z * h\n",
    "    iter_x_aux,iter_y_aux,iter_z_aux = sist_lorenz(x_aux[i], y_aux[i], z_aux[i]) # captam si valorile intermediare\n",
    "    x_aux[i + 1] = x_aux[i] + iter_x_aux * h\n",
    "    y_aux[i + 1] = y_aux[i] + iter_y_aux * h\n",
    "    z_aux[i + 1] = z_aux[i] + iter_z_aux * h\n",
    "    x[i + 1] = coef * (x[i] + x_aux[i + 1])\n",
    "    y[i + 1] = coef * (y[i] + y_aux[i + 1])\n",
    "    z[i + 1] = coef * (z[i] + z_aux[i + 1])\n",
    "    \n",
    "    print(\"+++\\nN = {0:d}, \"\n",
    "          \"x({1}) = {2:.16f}, y({3}) = {4:.16f}, z({5}) = {6:.16f}\".format(i, i, x[i], i, y[i], i, z[i]))"
   ]
  },
  {
   "cell_type": "markdown",
   "metadata": {},
   "source": [
    "La itera&#355;ia num&#259;rul $J$ (pentru semnifica&#355;ia itera&#355;iilor **85**, **150**, vezi **Dnf**, pagina 137), unde"
   ]
  },
  {
   "cell_type": "code",
   "execution_count": null,
   "metadata": {},
   "outputs": [],
   "source": [
    "J = 146"
   ]
  },
  {
   "cell_type": "markdown",
   "metadata": {},
   "source": [
    "au fost ob&#355;inute valorile:"
   ]
  },
  {
   "cell_type": "code",
   "execution_count": null,
   "metadata": {},
   "outputs": [],
   "source": [
    "print(\"x({0:d}) = {1:.16f}, y({2:d}) = {3:.16f}, z({4:d}) = {5:.16f}\".format(J, x[J], J, y[J], J, z[J]))"
   ]
  },
  {
   "cell_type": "markdown",
   "metadata": {},
   "source": [
    "Preg&#259;tirea vizualiz&#259;rii:"
   ]
  },
  {
   "cell_type": "code",
   "execution_count": null,
   "metadata": {},
   "outputs": [],
   "source": [
    "traiectoria = go.Scatter3d(\n",
    "# imaginea va putea fi salvata doar ca \"png\", vezi nota din \"https://plot.ly/python/static-image-export/#vector-formats-svg-and-pdf\"\n",
    "              x=x, y=y, z=z, mode='markers', \n",
    "              marker=dict(color='rgb(127,0,255)', size=4, symbol='circle',\n",
    "                          line=dict(color='rgb(255,245,0)', width=1),\n",
    "                          opacity=0.8))\n",
    "datele = [traiectoria]\n",
    "aspectul = go.Layout(margin=dict(l=0, r=0, b=0, t=0))"
   ]
  },
  {
   "cell_type": "markdown",
   "metadata": {},
   "source": [
    "Vizualizarea interactiv&#259; a datelor:"
   ]
  },
  {
   "cell_type": "code",
   "execution_count": null,
   "metadata": {},
   "outputs": [],
   "source": [
    "fig = go.Figure(data=datele, layout=aspectul)\n",
    "iplot(fig)"
   ]
  }
 ],
 "metadata": {
  "kernelspec": {
   "display_name": "Python 3",
   "language": "python",
   "name": "python3"
  },
  "language_info": {
   "codemirror_mode": {
    "name": "ipython",
    "version": 3
   },
   "file_extension": ".py",
   "mimetype": "text/x-python",
   "name": "python",
   "nbconvert_exporter": "python",
   "pygments_lexer": "ipython3",
   "version": "3.7.2"
  }
 },
 "nbformat": 4,
 "nbformat_minor": 2
}
