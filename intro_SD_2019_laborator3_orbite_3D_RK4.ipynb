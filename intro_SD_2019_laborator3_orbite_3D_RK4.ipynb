{
 "cells": [
  {
   "cell_type": "markdown",
   "metadata": {},
   "source": [
    "**NOT&#258;**\n",
    "C&#226;nd utiliz&#259;m [Binder](https://mybinder.org/), comanda ``python -m pip install --user numpy plotly`` trebuie rulat&#259; &#238;n terminal &#238;nainte de pornirea **notebook**-ului!"
   ]
  },
  {
   "cell_type": "markdown",
   "metadata": {},
   "source": [
    "# Orbite 3-dimensionale"
   ]
  },
  {
   "cell_type": "code",
   "execution_count": null,
   "metadata": {},
   "outputs": [],
   "source": [
    "import numpy as np\n",
    "import plotly.graph_objs as go\n",
    "from plotly.offline import download_plotlyjs, init_notebook_mode, iplot"
   ]
  },
  {
   "cell_type": "code",
   "execution_count": null,
   "metadata": {},
   "outputs": [],
   "source": [
    "from decimal import Context, ROUND_HALF_EVEN, FloatOperation, setcontext, Decimal\n",
    "contextul = Context(prec=128, rounding=ROUND_HALF_EVEN, Emin=-999999, Emax=999999, capitals=1, clamp=1,\n",
    "                    flags=[], traps=[FloatOperation])\n",
    "setcontext(contextul)"
   ]
  },
  {
   "cell_type": "code",
   "execution_count": null,
   "metadata": {},
   "outputs": [],
   "source": [
    "init_notebook_mode(connected=True)"
   ]
  },
  {
   "cell_type": "markdown",
   "metadata": {},
   "source": [
    "Formulele ecua&#355;iilor din sistemul diferen&#355;ial:"
   ]
  },
  {
   "cell_type": "code",
   "execution_count": null,
   "metadata": {},
   "outputs": [],
   "source": [
    "def sist_dif(X, Y, Z, t):\n",
    "    X_loc = Decimal(X)\n",
    "    Y_loc = Decimal(Y)\n",
    "    Z_loc = Decimal(Z)\n",
    "    T_loc = Decimal(t)\n",
    "    \n",
    "    # sistemul diferential May-Leonard: (J. Hofbauer, K. Sigmund, pag. 70)\n",
    "    '''\n",
    "    alpha = Decimal('2.0')\n",
    "    beta = Decimal('0.5')\n",
    "    ec_X = X_loc * (1 - X_loc - alpha * Y_loc - beta * Z_loc)\n",
    "    ec_Y = Y_loc * (1 - beta * X_loc - Y_loc - alpha * Z_loc)\n",
    "    ec_Z = Z_loc * (1 - alpha * X_loc - beta * Y_loc - Z_loc)\n",
    "    '''\n",
    "    \n",
    "    # sistemul diferential Lorenz:\n",
    "    '''\n",
    "    sigma = Decimal('10')\n",
    "    r = Decimal('28')\n",
    "    b = Decimal('8')/Decimal('3')\n",
    "    ec_X = sigma * (Y_loc - X_loc)\n",
    "    ec_Y = X_loc * (r - Z_loc) - Y_loc\n",
    "    ec_Z = X_loc * Y_loc - b * Z_loc\n",
    "    '''\n",
    "    \n",
    "    # sistemul diferential Roessler: (R.C. Robinson, op. cit., pag. 266)\n",
    "    '''\n",
    "    a = Decimal('0.2')\n",
    "    b = Decimal('0.2')\n",
    "    c = Decimal('5.7')\n",
    "    ec_X = - Y_loc - Z_loc\n",
    "    ec_Y = X_loc + a * Y_loc\n",
    "    ec_Z = b + Z_loc * (X_loc - c)\n",
    "    '''\n",
    "    \n",
    "    # sistemul diferential liniar: (R.C. Robinson, op. cit., pag. 30)\n",
    "    a11 = Decimal('0')\n",
    "    a12 = Decimal('0')\n",
    "    a13 = Decimal('1')\n",
    "    a21 = Decimal('1')\n",
    "    a22 = Decimal('1')\n",
    "    a23 = Decimal('-1')\n",
    "    a31 = Decimal('-1')\n",
    "    a32 = Decimal('4')\n",
    "    a33 = Decimal('-2')\n",
    "    ec_X = a11 * X_loc + a12 * Y_loc + a13 * Z_loc\n",
    "    ec_Y = a21 * X_loc + a22 * Y_loc + a23 * Z_loc\n",
    "    ec_Z = a31 * X_loc + a32 * Y_loc + a33 * Z_loc\n",
    "    \n",
    "    ec_T = T_loc\n",
    "    return ec_X, ec_Y, ec_Z, ec_T"
   ]
  },
  {
   "cell_type": "markdown",
   "metadata": {},
   "source": [
    "Pasul $h$ este:"
   ]
  },
  {
   "cell_type": "code",
   "execution_count": null,
   "metadata": {},
   "outputs": [],
   "source": [
    "h = Decimal('0.01')\n",
    "h2 = Decimal('0.5') * h\n",
    "h3 = h / Decimal('6.0')"
   ]
  },
  {
   "cell_type": "markdown",
   "metadata": {},
   "source": [
    "Num&#259;rul de itera&#355;ii $n$ este:"
   ]
  },
  {
   "cell_type": "code",
   "execution_count": null,
   "metadata": {},
   "outputs": [],
   "source": [
    "n = 400 \n",
    "# 7_520 pentru sistemul May-Leonard, 6_000 pentru sistemul Lorenz, 16_000 pentru sistemul Roessler"
   ]
  },
  {
   "cell_type": "code",
   "execution_count": null,
   "metadata": {},
   "outputs": [],
   "source": [
    "r2 = range(n)\n",
    "r3 = range(n + 1)\n",
    "\n",
    "X = np.array(r3, dtype=np.object_)\n",
    "Y = np.array(r3, dtype=np.object_)\n",
    "Z = np.array(r3, dtype=np.object_)\n",
    "t = np.array(r3, dtype=np.object_)\n",
    "\n",
    "kX1 = np.array(r2, dtype=np.object_)\n",
    "kY1 = np.array(r2, dtype=np.object_)\n",
    "kZ1 = np.array(r2, dtype=np.object_)\n",
    "zX1 = np.array(r2, dtype=np.object_)\n",
    "zY1 = np.array(r2, dtype=np.object_)\n",
    "zZ1 = np.array(r2, dtype=np.object_)\n",
    "\n",
    "kX2 = np.array(r2, dtype=np.object_)\n",
    "kY2 = np.array(r2, dtype=np.object_)\n",
    "kZ2 = np.array(r2, dtype=np.object_)\n",
    "zX2 = np.array(r2, dtype=np.object_)\n",
    "zY2 = np.array(r2, dtype=np.object_)\n",
    "zZ2 = np.array(r2, dtype=np.object_)\n",
    "\n",
    "kX3 = np.array(r2, dtype=np.object_)\n",
    "kY3 = np.array(r2, dtype=np.object_)\n",
    "kZ3 = np.array(r2, dtype=np.object_)\n",
    "zX3 = np.array(r2, dtype=np.object_)\n",
    "zY3 = np.array(r2, dtype=np.object_)\n",
    "zZ3 = np.array(r2, dtype=np.object_)\n",
    "\n",
    "kX4 = np.array(r2, dtype=np.object_)\n",
    "kY4 = np.array(r2, dtype=np.object_)\n",
    "kZ4 = np.array(r2, dtype=np.object_)\n",
    "\n",
    "kXRK4 = np.array(r2, dtype=np.object_)\n",
    "kYRK4 = np.array(r2, dtype=np.object_)\n",
    "kZRK4 = np.array(r2, dtype=np.object_)"
   ]
  },
  {
   "cell_type": "markdown",
   "metadata": {},
   "source": [
    "Datele Cauchy sunt:"
   ]
  },
  {
   "cell_type": "code",
   "execution_count": null,
   "metadata": {},
   "outputs": [],
   "source": [
    "X[0], Y[0], Z[0], t[0] = (Decimal('2.8'), Decimal('-2'), Decimal('0.8'), Decimal('0.0'))\n",
    "\n",
    "# sistemul diferential May-Leonard: (Decimal('0.2'), Decimal('1'), Decimal('0.5'), Decimal('0.0'))\n",
    "# sistemul diferential Lorenz: (Decimal('0'), Decimal('1'), Decimal('0'), Decimal('0.0'))\n",
    "# sistemul diferential Roessler: (Decimal('0.8'), Decimal('1.2'), Decimal('0.4'), Decimal('0.0'))"
   ]
  },
  {
   "cell_type": "code",
   "execution_count": null,
   "metadata": {},
   "outputs": [],
   "source": [
    "for i in r2:\n",
    "    i2 = i + 1 \n",
    "    ti = t[i]\n",
    "    ti2 = ti + h2\n",
    "    ti3 = ti + h\n",
    "    \n",
    "    t[i2] = ti3                                                           # t[i+1] = t[i] + h\n",
    "    \n",
    "    \n",
    "    kX1[i], kY1[i], kZ1[i], ti = sist_dif(X[i], Y[i], Z[i], ti)           # [pasul 1]\n",
    "    zX1[i] = X[i] + h2 * kX1[i]\n",
    "    zY1[i] = Y[i] + h2 * kY1[i]\n",
    "    zZ1[i] = Z[i] + h2 * kZ1[i]\n",
    "    \n",
    "    kX2[i], kY2[i], kZ2[i], ti2 = sist_dif(zX1[i], zY1[i], zZ1[i], ti2)   # [pasul 2]\n",
    "    zX2[i] = X[i] + h2 * kX2[i]\n",
    "    zY2[i] = Y[i] + h2 * kY2[i]\n",
    "    zZ2[i] = Z[i] + h2 * kZ2[i]\n",
    "    \n",
    "    kX3[i], kY3[i], kZ3[i], ti2 = sist_dif(zX2[i], zY2[i], zZ2[i], ti2)   # [pasul 3]\n",
    "    zX3[i] = X[i] + h * kX3[i]\n",
    "    zY3[i] = Y[i] + h * kY3[i]\n",
    "    zZ3[i] = Z[i] + h * kZ3[i]\n",
    "    \n",
    "    kX4[i], kY4[i], kZ4[i], ti3 = sist_dif(zX3[i], zY3[i], zZ3[i], ti3)   # [pasul 4]\n",
    "    \n",
    "    kXRK4[i] = h3 * (kX1[i] + 2 * kX2[i] + 2 * kX3[i] + kX4[i])           # [pasul 5]\n",
    "    kYRK4[i] = h3 * (kY1[i] + 2 * kY2[i] + 2 * kY3[i] + kY4[i])\n",
    "    kZRK4[i] = h3 * (kZ1[i] + 2 * kZ2[i] + 2 * kZ3[i] + kZ4[i])\n",
    "    \n",
    "    X[i2] = X[i] + kXRK4[i]\n",
    "    Y[i2] = Y[i] + kYRK4[i]\n",
    "    Z[i2] = Z[i] + kZRK4[i]    \n",
    "    \n",
    "    print(\"+++\\nN = {0:d}, \"\n",
    "          \"x({1}) = {2:.16f}, y({3}) = {4:.16f}, z({5}) = {6:.16f}\".format(i, i, X[i], i, Y[i], i, Z[i]))"
   ]
  },
  {
   "cell_type": "markdown",
   "metadata": {},
   "source": [
    "La itera&#355;ia num&#259;rul $J$, unde"
   ]
  },
  {
   "cell_type": "code",
   "execution_count": null,
   "metadata": {},
   "outputs": [],
   "source": [
    "J = 262 \n",
    "# 6_124 pentru sistemul May-Leonard, 146 pentru sistemul Lorenz, 7_689 pentru sistemul Roessler"
   ]
  },
  {
   "cell_type": "markdown",
   "metadata": {},
   "source": [
    "au fost ob&#355;inute valorile:"
   ]
  },
  {
   "cell_type": "code",
   "execution_count": null,
   "metadata": {},
   "outputs": [],
   "source": [
    "print(\"x({0:d}) = {1:.16f}, y({2:d}) = {3:.16f}, z({4:d}) = {5:.16f}\".format(J, X[J], J, Y[J], J, Z[J]))"
   ]
  },
  {
   "cell_type": "markdown",
   "metadata": {},
   "source": [
    "Preg&#259;tirea vizualiz&#259;rii:"
   ]
  },
  {
   "cell_type": "code",
   "execution_count": null,
   "metadata": {},
   "outputs": [],
   "source": [
    "traiectoria = go.Scatter3d(\n",
    "# imaginea va putea fi salvata doar ca \"png\", vezi nota din \"https://plot.ly/python/static-image-export/#vector-formats-svg-and-pdf\"\n",
    "              x=X, y=Y, z=Z, mode='markers', \n",
    "              marker=dict(color='rgb(127,0,255)', size=4, symbol='circle',\n",
    "                          line=dict(color='rgb(255,245,0)', width=1),\n",
    "                          opacity=0.8))\n",
    "datele = [traiectoria]\n",
    "aspectul = go.Layout(margin=dict(l=0, r=0, b=0, t=0))"
   ]
  },
  {
   "cell_type": "markdown",
   "metadata": {},
   "source": [
    "Vizualizarea interativ&#259; a datelor:"
   ]
  },
  {
   "cell_type": "code",
   "execution_count": null,
   "metadata": {},
   "outputs": [],
   "source": [
    "fig = go.Figure(data=datele, layout=aspectul)\n",
    "iplot(fig)"
   ]
  }
 ],
 "metadata": {
  "kernelspec": {
   "display_name": "Python 3",
   "language": "python",
   "name": "python3"
  },
  "language_info": {
   "codemirror_mode": {
    "name": "ipython",
    "version": 3
   },
   "file_extension": ".py",
   "mimetype": "text/x-python",
   "name": "python",
   "nbconvert_exporter": "python",
   "pygments_lexer": "ipython3",
   "version": "3.7.2"
  }
 },
 "nbformat": 4,
 "nbformat_minor": 2
}
