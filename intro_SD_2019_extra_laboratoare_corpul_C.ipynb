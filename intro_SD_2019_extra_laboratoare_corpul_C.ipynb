{
 "cells": [
  {
   "cell_type": "markdown",
   "id": "colored-sunrise",
   "metadata": {},
   "source": [
    "**NOT&#258;**\n",
    "C&#226;nd utiliz&#259;m [Binder](https://mybinder.org/), comanda ``python -m pip install --user numpy plotly`` trebuie rulat&#259; &#238;n terminal &#238;nainte de pornirea **notebook**-ului!"
   ]
  },
  {
   "cell_type": "markdown",
   "id": "encouraging-diving",
   "metadata": {},
   "source": [
    "# Scripe&#355;i: mi&#351;carea corpului C"
   ]
  },
  {
   "cell_type": "code",
   "execution_count": 1,
   "id": "encouraging-sugar",
   "metadata": {},
   "outputs": [],
   "source": [
    "import numpy as np\n",
    "import plotly.graph_objs as go\n",
    "from plotly.offline import download_plotlyjs, init_notebook_mode, iplot"
   ]
  },
  {
   "cell_type": "code",
   "execution_count": 2,
   "id": "headed-hierarchy",
   "metadata": {},
   "outputs": [],
   "source": [
    "from decimal import Context, ROUND_HALF_EVEN, FloatOperation, setcontext, Decimal\n",
    "contextul = Context(prec=128, rounding=ROUND_HALF_EVEN, Emin=-999999, Emax=999999, capitals=1, clamp=1,\n",
    "                    flags=[], traps=[FloatOperation])\n",
    "setcontext(contextul)"
   ]
  },
  {
   "cell_type": "code",
   "execution_count": 3,
   "id": "brilliant-survivor",
   "metadata": {},
   "outputs": [
    {
     "data": {
      "text/html": [
       "        <script type=\"text/javascript\">\n",
       "        window.PlotlyConfig = {MathJaxConfig: 'local'};\n",
       "        if (window.MathJax) {MathJax.Hub.Config({SVG: {font: \"STIX-Web\"}});}\n",
       "        if (typeof require !== 'undefined') {\n",
       "        require.undef(\"plotly\");\n",
       "        requirejs.config({\n",
       "            paths: {\n",
       "                'plotly': ['https://cdn.plot.ly/plotly-2.9.0.min']\n",
       "            }\n",
       "        });\n",
       "        require(['plotly'], function(Plotly) {\n",
       "            window._Plotly = Plotly;\n",
       "        });\n",
       "        }\n",
       "        </script>\n",
       "        "
      ]
     },
     "metadata": {},
     "output_type": "display_data"
    }
   ],
   "source": [
    "init_notebook_mode(connected=True)"
   ]
  },
  {
   "cell_type": "markdown",
   "id": "individual-eclipse",
   "metadata": {},
   "source": [
    "Construim aproxim&#259;ri ale constantei $\\pi$ &#351;i ale func&#355;iilor **sin**, **cos**, **exp**, conform [recomand&#259;rii oficiale](https://docs.python.org/3/library/decimal.html#recipes):"
   ]
  },
  {
   "cell_type": "code",
   "execution_count": 4,
   "id": "enhanced-sewing",
   "metadata": {},
   "outputs": [],
   "source": [
    "def pi():\n",
    "    '''\n",
    "    Compute Pi to the current precision.\n",
    "\n",
    "    >>> print(pi())\n",
    "    3.141592653589793238462643383\n",
    "    '''\n",
    "    contextul.prec += 2     # extra digits for intermediate steps\n",
    "    three = Decimal(3)      # substitute \"three=3.0\" for regular floats\n",
    "    lasts, t, s, n, na, d, da = 0, three, 3, 1, 0, 0, 24\n",
    "    while s != lasts:\n",
    "        lasts = s\n",
    "        n, na = n+na, na+8\n",
    "        d, da = d+da, da+32\n",
    "        t = (t * n) / d\n",
    "        s += t\n",
    "    contextul.prec -= 2\n",
    "    return +s               # unary plus applies the new precision\n",
    "\n",
    "def exp(x):\n",
    "    '''\n",
    "    Return e raised to the power of x.  Result type matches input type.\n",
    "\n",
    "    >>> print(exp(Decimal(1)))\n",
    "    2.718281828459045235360287471\n",
    "    >>> print(exp(Decimal(2)))\n",
    "    7.389056098930650227230427461\n",
    "    >>> print(exp(2.0))\n",
    "    7.38905609893\n",
    "    >>> print(exp(2+0j))\n",
    "    (7.38905609893+0j)\n",
    "    '''\n",
    "    contextul.prec += 2\n",
    "    i, lasts, s, fact, num = 0, 0, 1, 1, 1\n",
    "    while s != lasts:\n",
    "        lasts = s\n",
    "        i += 1\n",
    "        fact *= i\n",
    "        num *= x\n",
    "        s += num / fact\n",
    "    contextul.prec -= 2\n",
    "    return +s\n",
    "\n",
    "def sin(x):\n",
    "    '''\n",
    "    Return the sine of x as measured in radians.\n",
    "\n",
    "    The Taylor series approximation works best for a small value of x.\n",
    "    For larger values, first compute x = x % (2 * pi).\n",
    "\n",
    "    >>> print(sin(Decimal('0.5')))\n",
    "    0.4794255386042030002732879352\n",
    "    >>> print(sin(0.5))\n",
    "    0.479425538604\n",
    "    >>> print(sin(0.5+0j))\n",
    "    (0.479425538604+0j)\n",
    "    '''\n",
    "    contextul.prec += 2\n",
    "    i, lasts, s, fact, num, sign = 1, 0, x, 1, x, 1\n",
    "    \n",
    "    x = x % (2 * pi())      # pentru numere mari\n",
    "    \n",
    "    while s != lasts:\n",
    "        lasts = s\n",
    "        i += 2\n",
    "        fact *= i * (i-1)\n",
    "        num *= x * x\n",
    "        sign *= -1\n",
    "        s += num / fact * sign\n",
    "    contextul.prec -= 2\n",
    "    return +s\n",
    "\n",
    "def cos(x):\n",
    "    '''\n",
    "    Return the cosine of x as measured in radians.\n",
    "\n",
    "    The Taylor series approximation works best for a small value of x.\n",
    "    For larger values, first compute x = x % (2 * pi).\n",
    "\n",
    "    >>> print(cos(Decimal('0.5')))\n",
    "    0.8775825618903727161162815826\n",
    "    >>> print(cos(0.5))\n",
    "    0.87758256189\n",
    "    >>> print(cos(0.5+0j))\n",
    "    (0.87758256189+0j)\n",
    "    '''\n",
    "    contextul.prec += 2\n",
    "    i, lasts, s, fact, num, sign = 0, 0, 1, 1, 1, 1\n",
    "    while s != lasts:\n",
    "        lasts = s\n",
    "        i += 2\n",
    "        fact *= i * (i-1)\n",
    "        num *= x * x\n",
    "        sign *= -1\n",
    "        s += num / fact * sign\n",
    "    contextul.prec -= 2\n",
    "    return +s"
   ]
  },
  {
   "cell_type": "markdown",
   "id": "helpful-dairy",
   "metadata": {},
   "source": [
    "Formulele ecua&#355;iilor din sistemul diferen&#355;ial:"
   ]
  },
  {
   "cell_type": "code",
   "execution_count": 5,
   "id": "insured-blues",
   "metadata": {},
   "outputs": [],
   "source": [
    "def sist_dif(X, Y, Z, t):\n",
    "    X_loc = Decimal(X)\n",
    "    Y_loc = Decimal(Y)\n",
    "    Z_loc = Decimal(Z)\n",
    "    T_loc = Decimal(t)\n",
    "    \n",
    "    unu = (2 * cos(X_loc) * (3 - (sin(X_loc) ** 2)))/(sin(X_loc) * (3 - 2 * (sin(X_loc) ** 2)))\n",
    "    doi = - ((sin(X_loc) ** 2) * (1 - 2 * cos(X_loc)))/(3 - 2 * (sin(X_loc) ** 2))\n",
    "    ec_X = Y_loc\n",
    "    ec_Y = unu * (Y_loc ** 2) + doi\n",
    "    ec_Z = Decimal('0')\n",
    "    ec_T = T_loc    \n",
    "    \n",
    "    return ec_X, ec_Y, ec_Z, ec_T"
   ]
  },
  {
   "cell_type": "markdown",
   "id": "urban-strand",
   "metadata": {},
   "source": [
    "Pasul $h$ este:"
   ]
  },
  {
   "cell_type": "code",
   "execution_count": 6,
   "id": "daily-abortion",
   "metadata": {},
   "outputs": [],
   "source": [
    "h = Decimal('0.01')\n",
    "h2 = Decimal('0.5') * h\n",
    "h3 = h / Decimal('6.0')"
   ]
  },
  {
   "cell_type": "markdown",
   "id": "developing-gossip",
   "metadata": {},
   "source": [
    "Num&#259;rul de itera&#355;ii $n$ este:"
   ]
  },
  {
   "cell_type": "code",
   "execution_count": 7,
   "id": "fundamental-aruba",
   "metadata": {},
   "outputs": [],
   "source": [
    "n = 10_000"
   ]
  },
  {
   "cell_type": "code",
   "execution_count": 8,
   "id": "afraid-plant",
   "metadata": {},
   "outputs": [],
   "source": [
    "r2 = range(n)\n",
    "r3 = range(n + 1)\n",
    "\n",
    "X = np.array(r3, dtype=np.object_)\n",
    "Y = np.array(r3, dtype=np.object_)\n",
    "Z = np.array(r3, dtype=np.object_)\n",
    "t = np.array(r3, dtype=np.object_)\n",
    "x_dot_C = np.array(r3, dtype=np.object_)\n",
    "\n",
    "kX1 = np.array(r2, dtype=np.object_)\n",
    "kY1 = np.array(r2, dtype=np.object_)\n",
    "kZ1 = np.array(r2, dtype=np.object_)\n",
    "zX1 = np.array(r2, dtype=np.object_)\n",
    "zY1 = np.array(r2, dtype=np.object_)\n",
    "zZ1 = np.array(r2, dtype=np.object_)\n",
    "\n",
    "kX2 = np.array(r2, dtype=np.object_)\n",
    "kY2 = np.array(r2, dtype=np.object_)\n",
    "kZ2 = np.array(r2, dtype=np.object_)\n",
    "zX2 = np.array(r2, dtype=np.object_)\n",
    "zY2 = np.array(r2, dtype=np.object_)\n",
    "zZ2 = np.array(r2, dtype=np.object_)\n",
    "\n",
    "kX3 = np.array(r2, dtype=np.object_)\n",
    "kY3 = np.array(r2, dtype=np.object_)\n",
    "kZ3 = np.array(r2, dtype=np.object_)\n",
    "zX3 = np.array(r2, dtype=np.object_)\n",
    "zY3 = np.array(r2, dtype=np.object_)\n",
    "zZ3 = np.array(r2, dtype=np.object_)\n",
    "\n",
    "kX4 = np.array(r2, dtype=np.object_)\n",
    "kY4 = np.array(r2, dtype=np.object_)\n",
    "kZ4 = np.array(r2, dtype=np.object_)\n",
    "\n",
    "kXRK4 = np.array(r2, dtype=np.object_)\n",
    "kYRK4 = np.array(r2, dtype=np.object_)\n",
    "kZRK4 = np.array(r2, dtype=np.object_)"
   ]
  },
  {
   "cell_type": "markdown",
   "id": "recorded-lebanon",
   "metadata": {},
   "source": [
    "Datele ini&#355;iale sunt:"
   ]
  },
  {
   "cell_type": "code",
   "execution_count": 9,
   "id": "ready-afternoon",
   "metadata": {},
   "outputs": [],
   "source": [
    "X[0], Y[0], Z[0], t[0] = (Decimal(pi()/2), Decimal('0.0'), Decimal('0.0'), Decimal('0.0'))\n",
    "x_dot_C[0] = - Y[0]/(sin(X[0]) ** 2)"
   ]
  },
  {
   "cell_type": "code",
   "execution_count": null,
   "id": "australian-serial",
   "metadata": {},
   "outputs": [],
   "source": [
    "for i in r2:\n",
    "    i2 = i + 1 \n",
    "    ti = t[i]\n",
    "    ti2 = ti + h2\n",
    "    ti3 = ti + h\n",
    "    \n",
    "    t[i2] = ti3                                                           # t[i+1] = t[i] + h\n",
    "    \n",
    "    \n",
    "    kX1[i], kY1[i], kZ1[i], ti = sist_dif(X[i], Y[i], Z[i], ti)           # [pasul 1]\n",
    "    zX1[i] = X[i] + h2 * kX1[i]\n",
    "    zY1[i] = Y[i] + h2 * kY1[i]\n",
    "    zZ1[i] = Z[i] + h2 * kZ1[i]\n",
    "    \n",
    "    kX2[i], kY2[i], kZ2[i], ti2 = sist_dif(zX1[i], zY1[i], zZ1[i], ti2)   # [pasul 2]\n",
    "    zX2[i] = X[i] + h2 * kX2[i]\n",
    "    zY2[i] = Y[i] + h2 * kY2[i]\n",
    "    zZ2[i] = Z[i] + h2 * kZ2[i]\n",
    "    \n",
    "    kX3[i], kY3[i], kZ3[i], ti2 = sist_dif(zX2[i], zY2[i], zZ2[i], ti2)   # [pasul 3]\n",
    "    zX3[i] = X[i] + h * kX3[i]\n",
    "    zY3[i] = Y[i] + h * kY3[i]\n",
    "    zZ3[i] = Z[i] + h * kZ3[i]\n",
    "    \n",
    "    kX4[i], kY4[i], kZ4[i], ti3 = sist_dif(zX3[i], zY3[i], zZ3[i], ti3)   # [pasul 4]\n",
    "    \n",
    "    kXRK4[i] = h3 * (kX1[i] + 2 * kX2[i] + 2 * kX3[i] + kX4[i])           # [pasul 5]\n",
    "    kYRK4[i] = h3 * (kY1[i] + 2 * kY2[i] + 2 * kY3[i] + kY4[i])\n",
    "    kZRK4[i] = h3 * (kZ1[i] + 2 * kZ2[i] + 2 * kZ3[i] + kZ4[i])\n",
    "    \n",
    "    X[i2] = X[i] + kXRK4[i]\n",
    "    Y[i2] = Y[i] + kYRK4[i]\n",
    "    Z[i2] = Z[i] + kZRK4[i]   \n",
    "    \n",
    "    x_dot_C[i2] = - Y[i]/(sin(X[i]) ** 2)\n",
    "    \n",
    "    print(\"+++\\nN = {0:d}, \"\n",
    "          \"x({1:d}) = {2:.16f}, y({3:d}) = {4:.16f}, z({5:d}) = {6:.16f}\"\n",
    "          \"\\nx_dot_C({7:d}) = {8:.16f}\".format(i, i, X[i], i, Y[i], i, Z[i], i, x_dot_C[i]))"
   ]
  },
  {
   "cell_type": "markdown",
   "id": "covered-deadline",
   "metadata": {},
   "source": [
    "La itera&#355;ia num&#259;rul $J$, unde"
   ]
  },
  {
   "cell_type": "code",
   "execution_count": 11,
   "id": "hazardous-sweden",
   "metadata": {},
   "outputs": [],
   "source": [
    "J = 8935\n",
    "# J = 84\n",
    "# J = 9398"
   ]
  },
  {
   "cell_type": "markdown",
   "id": "forward-catholic",
   "metadata": {},
   "source": [
    "au fost ob&#355;inute valorile:"
   ]
  },
  {
   "cell_type": "code",
   "execution_count": null,
   "id": "legendary-eugene",
   "metadata": {},
   "outputs": [],
   "source": [
    "print(\"x({0:d}) = {1:.16f}, y({2:d}) = {3:.16f}, z({4:d}) = {5:.16f},\"\n",
    "      \"\\nx_dot_C({6:d}) = {7:.16f}\".format(J, X[J], J, Y[J], J, Z[J], J, x_dot_C[J]))"
   ]
  },
  {
   "cell_type": "markdown",
   "id": "light-buffalo",
   "metadata": {},
   "source": [
    "Preg&#259;tirea vizualiz&#259;rii:"
   ]
  },
  {
   "cell_type": "code",
   "execution_count": null,
   "id": "other-excitement",
   "metadata": {},
   "outputs": [],
   "source": [
    "traiectoria = go.Scatter3d(\n",
    "# imaginea va putea fi salvata doar ca \"png\", vezi nota din \"https://plot.ly/python/static-image-export/#vector-formats-svg-and-pdf\"\n",
    "              x=X, y=Y, z=Z, mode='markers', \n",
    "              marker=dict(color='rgb(127,0,255)', size=4, symbol='circle',\n",
    "                          line=dict(color='rgb(255,245,0)', width=1),\n",
    "                          opacity=0.8))\n",
    "datele = [traiectoria]\n",
    "aspectul = go.Layout(margin=dict(l=0, r=0, b=0, t=0))"
   ]
  },
  {
   "cell_type": "markdown",
   "id": "armed-garage",
   "metadata": {},
   "source": [
    "Vizualizarea interativ&#259; a datelor:"
   ]
  },
  {
   "cell_type": "code",
   "execution_count": null,
   "id": "north-accent",
   "metadata": {},
   "outputs": [],
   "source": [
    "fig = go.Figure(data=datele, layout=aspectul)\n",
    "iplot(fig)"
   ]
  },
  {
   "cell_type": "markdown",
   "id": "transparent-european",
   "metadata": {},
   "source": [
    "Valorile proiec&#355;iei vectorului-vitez&#259; al corpului C pe verticala descendent&#259;:"
   ]
  },
  {
   "cell_type": "code",
   "execution_count": null,
   "id": "previous-wednesday",
   "metadata": {},
   "outputs": [],
   "source": [
    "vitezele = go.Scatter3d(\n",
    "# imaginea va putea fi salvata doar ca \"png\", vezi nota din \"https://plot.ly/python/static-image-export/#vector-formats-svg-and-pdf\"\n",
    "              x=X, y=x_dot_C, z=Z, mode='markers', \n",
    "              marker=dict(color='rgb(127,0,255)', size=4, symbol='circle',\n",
    "                          line=dict(color='rgb(143,11,44)', width=1),\n",
    "                          opacity=0.8))\n",
    "datele2 = [vitezele]\n",
    "aspectul2 = go.Layout(margin=dict(l=0, r=0, b=0, t=0))"
   ]
  },
  {
   "cell_type": "code",
   "execution_count": null,
   "id": "activated-quest",
   "metadata": {},
   "outputs": [],
   "source": [
    "fig2 = go.Figure(data=datele2, layout=aspectul2)\n",
    "iplot(fig2)"
   ]
  }
 ],
 "metadata": {
  "kernelspec": {
   "display_name": "Python 3 (ipykernel)",
   "language": "python",
   "name": "python3"
  },
  "language_info": {
   "codemirror_mode": {
    "name": "ipython",
    "version": 3
   },
   "file_extension": ".py",
   "mimetype": "text/x-python",
   "name": "python",
   "nbconvert_exporter": "python",
   "pygments_lexer": "ipython3",
   "version": "3.10.2"
  }
 },
 "nbformat": 4,
 "nbformat_minor": 5
}
